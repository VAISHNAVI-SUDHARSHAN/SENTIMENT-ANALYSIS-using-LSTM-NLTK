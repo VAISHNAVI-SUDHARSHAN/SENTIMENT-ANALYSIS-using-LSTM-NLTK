{
 "cells": [
  {
   "cell_type": "markdown",
   "id": "ff153aee",
   "metadata": {},
   "source": [
    "# SENTIMENT ANALYSIS"
   ]
  },
  {
   "cell_type": "markdown",
   "id": "aecd3248",
   "metadata": {},
   "source": [
    "## Step 1: Importing Libraries\n",
    "\n",
    "\n",
    "The project begins by importing necessary libraries:\n",
    "\n",
    "\n",
    "- pandas for data manipulation and analysis\n",
    "- re for regular expressions\n",
    "- nltk for natural language processing\n",
    "- emoji for handling emojis\n",
    "- sklearn for machine learning\n",
    "- keras for deep learning\n",
    "- matplotlib for visualization\n",
    "- numpy for numerical computations\n",
    "\n"
   ]
  },
  {
   "cell_type": "code",
   "execution_count": 1,
   "id": "d08c9a3f",
   "metadata": {},
   "outputs": [],
   "source": [
    "#  Import Libraries\n",
    "import pandas as pd\n",
    "import re\n",
    "import nltk\n",
    "import emoji\n",
    "from nltk.corpus import stopwords\n",
    "from nltk.stem import WordNetLemmatizer\n",
    "from sklearn.model_selection import train_test_split\n",
    "from sklearn.metrics import classification_report, accuracy_score\n",
    "from tensorflow.keras.preprocessing.text import Tokenizer\n",
    "from tensorflow.keras.preprocessing.sequence import pad_sequences\n",
    "from tensorflow.keras.models import Sequential\n",
    "from tensorflow.keras.layers import Embedding, LSTM, Dense, SpatialDropout1D, Bidirectional\n",
    "from tensorflow.keras.optimizers import Adam\n",
    "import matplotlib.pyplot as plt\n",
    "import numpy as np"
   ]
  },
  {
   "cell_type": "code",
   "execution_count": 2,
   "id": "d40ee899",
   "metadata": {},
   "outputs": [
    {
     "name": "stderr",
     "output_type": "stream",
     "text": [
      "[nltk_data] Downloading package stopwords to\n",
      "[nltk_data]     C:\\Users\\vaish\\AppData\\Roaming\\nltk_data...\n",
      "[nltk_data]   Package stopwords is already up-to-date!\n",
      "[nltk_data] Downloading package wordnet to\n",
      "[nltk_data]     C:\\Users\\vaish\\AppData\\Roaming\\nltk_data...\n",
      "[nltk_data]   Package wordnet is already up-to-date!\n",
      "[nltk_data] Downloading package punkt to\n",
      "[nltk_data]     C:\\Users\\vaish\\AppData\\Roaming\\nltk_data...\n",
      "[nltk_data]   Package punkt is already up-to-date!\n"
     ]
    },
    {
     "data": {
      "text/plain": [
       "True"
      ]
     },
     "execution_count": 2,
     "metadata": {},
     "output_type": "execute_result"
    }
   ],
   "source": [
    "# Download necessary nltk data\n",
    "nltk.download('stopwords')\n",
    "nltk.download('wordnet')\n",
    "nltk.download('punkt')"
   ]
  },
  {
   "cell_type": "markdown",
   "id": "16f4f1fb",
   "metadata": {},
   "source": [
    "## Step 2: Loading Dataset\n",
    "\n",
    "\n",
    "The project loads a sentiment analysis dataset from a CSV file:\n",
    "\n",
    "\n",
    "- The dataset contains three columns: Index, message, and label\n",
    "- Index is a unique identifier for each row\n",
    "- message is the text to be analyzed\n",
    "- label is the sentiment label (0 for non-depressive, 1 for depressive)\n",
    "\n"
   ]
  },
  {
   "cell_type": "code",
   "execution_count": 3,
   "id": "c0fb9da4",
   "metadata": {},
   "outputs": [
    {
     "data": {
      "text/html": [
       "<div>\n",
       "<style scoped>\n",
       "    .dataframe tbody tr th:only-of-type {\n",
       "        vertical-align: middle;\n",
       "    }\n",
       "\n",
       "    .dataframe tbody tr th {\n",
       "        vertical-align: top;\n",
       "    }\n",
       "\n",
       "    .dataframe thead th {\n",
       "        text-align: right;\n",
       "    }\n",
       "</style>\n",
       "<table border=\"1\" class=\"dataframe\">\n",
       "  <thead>\n",
       "    <tr style=\"text-align: right;\">\n",
       "      <th></th>\n",
       "      <th>Index</th>\n",
       "      <th>message</th>\n",
       "      <th>label</th>\n",
       "    </tr>\n",
       "  </thead>\n",
       "  <tbody>\n",
       "    <tr>\n",
       "      <th>0</th>\n",
       "      <td>106</td>\n",
       "      <td>just had a real good moment. i missssssssss hi...</td>\n",
       "      <td>0</td>\n",
       "    </tr>\n",
       "    <tr>\n",
       "      <th>1</th>\n",
       "      <td>217</td>\n",
       "      <td>is reading manga  http://plurk.com/p/mzp1e</td>\n",
       "      <td>0</td>\n",
       "    </tr>\n",
       "    <tr>\n",
       "      <th>2</th>\n",
       "      <td>220</td>\n",
       "      <td>@comeagainjen http://twitpic.com/2y2lx - http:...</td>\n",
       "      <td>0</td>\n",
       "    </tr>\n",
       "    <tr>\n",
       "      <th>3</th>\n",
       "      <td>288</td>\n",
       "      <td>@lapcat Need to send 'em to my accountant tomo...</td>\n",
       "      <td>0</td>\n",
       "    </tr>\n",
       "    <tr>\n",
       "      <th>4</th>\n",
       "      <td>540</td>\n",
       "      <td>ADD ME ON MYSPACE!!!  myspace.com/LookThunder</td>\n",
       "      <td>0</td>\n",
       "    </tr>\n",
       "  </tbody>\n",
       "</table>\n",
       "</div>"
      ],
      "text/plain": [
       "   Index                                            message  label\n",
       "0    106  just had a real good moment. i missssssssss hi...      0\n",
       "1    217         is reading manga  http://plurk.com/p/mzp1e      0\n",
       "2    220  @comeagainjen http://twitpic.com/2y2lx - http:...      0\n",
       "3    288  @lapcat Need to send 'em to my accountant tomo...      0\n",
       "4    540      ADD ME ON MYSPACE!!!  myspace.com/LookThunder      0"
      ]
     },
     "execution_count": 3,
     "metadata": {},
     "output_type": "execute_result"
    }
   ],
   "source": [
    "# Load Dataset\n",
    "\n",
    "data = pd.read_csv(\"C:\\\\Users\\\\vaish\\\\Downloads\\\\archive (1)\\\\sentiment_tweets3.csv\")\n",
    "data.columns = ['Index', 'message', 'label']  # Adjust column names if needed\n",
    "data.head()"
   ]
  },
  {
   "cell_type": "markdown",
   "id": "0e3cd754",
   "metadata": {},
   "source": [
    "## Step 3: Data Preprocessing\n",
    "\n",
    "\n",
    "The project preprocesses the text data:\n",
    "\n",
    "\n",
    "- Removes special characters and punctuation using regular expressions\n",
    "- Handles emojis using the emoji library\n",
    "- Converts chat words to their full forms using a custom dictionary\n",
    "- Tokenizes text into individual words using NLTK\n",
    "- Removes stopwords (common words like \"the,\" \"and,\" etc.)\n",
    "- Lemmatizes words to their base form using NLTK\n"
   ]
  },
  {
   "cell_type": "code",
   "execution_count": 4,
   "id": "6a758da9",
   "metadata": {},
   "outputs": [],
   "source": [
    "# Initialize Lemmatizer and Stopwords\n",
    "lemmatizer = WordNetLemmatizer()\n",
    "stop_words = set(stopwords.words('english'))"
   ]
  },
  {
   "cell_type": "code",
   "execution_count": 5,
   "id": "6f9e9748",
   "metadata": {},
   "outputs": [],
   "source": [
    "# Dictionary for chat words\n",
    "chat_words_dict = {\n",
    "    \"AFAIK\": \"As Far As I Know\",\n",
    "    \"AFK\": \"Away From Keyboard\",\n",
    "    \"ASAP\": \"As Soon As Possible\",\n",
    "    \"ATK\": \"At The Keyboard\",\n",
    "    \"ATM\": \"At The Moment\",\n",
    "    \"A3\": \"Anytime, Anywhere, Anyplace\",\n",
    "    \"BAK\": \"Back At Keyboard\",\n",
    "    \"BBL\": \"Be Back Later\",\n",
    "    \"BBS\": \"Be Back Soon\",\n",
    "    \"BFN\": \"Bye For Now\",\n",
    "    \"B4N\": \"Bye For Now\",\n",
    "    \"BRB\": \"Be Right Back\",\n",
    "    \"BRT\": \"Be Right There\",\n",
    "    \"BTW\": \"By The Way\",\n",
    "    \"B4\": \"Before\",\n",
    "    \"B4N\": \"Bye For Now\",\n",
    "    \"CU\": \"See You\",\n",
    "    \"CUL8R\": \"See You Later\",\n",
    "    \"CYA\": \"See You\",\n",
    "    \"FAQ\": \"Frequently Asked Questions\",\n",
    "    \"FC\": \"Fingers Crossed\",\n",
    "    \"FWIW\": \"For What It's Worth\",\n",
    "    \"FYI\": \"For Your Information\",\n",
    "    \"GAL\": \"Get A Life\",\n",
    "    \"GG\": \"Good Game\",\n",
    "    \"GN\": \"Good Night\",\n",
    "    \"GMTA\": \"Great Minds Think Alike\",\n",
    "    \"GR8\": \"Great!\",\n",
    "    \"G9\": \"Genius\",\n",
    "    \"IC\": \"I See\",\n",
    "    \"ICQ\": \"I Seek you (also a chat program)\",\n",
    "    \"ILU\": \"ILU: I Love You\",\n",
    "    \"IMHO\": \"In My Honest/Humble Opinion\",\n",
    "    \"IMO\": \"In My Opinion\",\n",
    "    \"IOW\": \"In Other Words\",\n",
    "    \"IRL\": \"In Real Life\",\n",
    "    \"KISS\": \"Keep It Simple, Stupid\",\n",
    "    \"LDR\": \"Long Distance Relationship\",\n",
    "    \"LMAO\": \"Laugh My A.. Off\",\n",
    "    \"LOL\": \"Laughing Out Loud\",\n",
    "    \"LTNS\": \"Long Time No See\",\n",
    "    \"L8R\": \"Later\",\n",
    "    \"MTE\": \"My Thoughts Exactly\",\n",
    "    \"M8\": \"Mate\",\n",
    "    \"NRN\": \"No Reply Necessary\",\n",
    "    \"OIC\": \"Oh I See\",\n",
    "    \"PITA\": \"Pain In The A..\",\n",
    "    \"PRT\": \"Party\",\n",
    "    \"PRW\": \"Parents Are Watching\",\n",
    "    \"QPSA?\": \"Que Pasa?\",\n",
    "    \"ROFL\": \"Rolling On The Floor Laughing\",\n",
    "    \"ROFLOL\": \"Rolling On The Floor Laughing Out Loud\",\n",
    "    \"ROTFLMAO\": \"Rolling On The Floor Laughing My A.. Off\",\n",
    "    \"SK8\": \"Skate\",\n",
    "    \"STATS\": \"Your sex and age\",\n",
    "    \"ASL\": \"Age, Sex, Location\",\n",
    "    \"THX\": \"Thank You\",\n",
    "    \"TTFN\": \"Ta-Ta For Now!\",\n",
    "    \"TTYL\": \"Talk To You Later\",\n",
    "    \"U\": \"You\",\n",
    "    \"U2\": \"You Too\",\n",
    "    \"U4E\": \"Yours For Ever\",\n",
    "    \"WB\": \"Welcome Back\",\n",
    "    \"WTF\": \"What The F...\",\n",
    "    \"WTG\": \"Way To Go!\",\n",
    "    \"WUF\": \"Where Are You From?\",\n",
    "    \"W8\": \"Wait...\",\n",
    "    \"7K\": \"Sick:-D Laugher\",\n",
    "    \"TFW\": \"That feeling when\",\n",
    "    \"MFW\": \"My face when\",\n",
    "    \"MRW\": \"My reaction when\",\n",
    "    \"IFYP\": \"I feel your pain\",\n",
    "    \"TNTL\": \"Trying not to laugh\",\n",
    "    \"JK\": \"Just kidding\",\n",
    "    \"IDC\": \"I don't care\",\n",
    "    \"ILY\": \"I love you\",\n",
    "    \"IMU\": \"I miss you\",\n",
    "    \"ADIH\": \"Another day in hell\",\n",
    "    \"ZZZ\": \"Sleeping, bored, tired\",\n",
    "    \"WYWH\": \"Wish you were here\",\n",
    "    \"TIME\": \"Tears in my eyes\",\n",
    "    \"BAE\": \"Before anyone else\",\n",
    "    \"FIMH\": \"Forever in my heart\",\n",
    "    \"BSAAW\": \"Big smile and a wink\",\n",
    "    \"BWL\": \"Bursting with laughter\",\n",
    "    \"BFF\": \"Best friends forever\",\n",
    "    \"CSL\": \"Can't stop laughing\"\n",
    "}\n",
    "\n",
    "# Function to handle emojis\n",
    "def handle_emojis(text):\n",
    "    return emoji.demojize(text)\n",
    "\n",
    "# Function to handle chat words\n",
    "def handle_chat_words(text, chat_words_dict):\n",
    "    words = text.split()\n",
    "    new_words = []\n",
    "    for word in words:\n",
    "        if word.lower() in chat_words_dict:\n",
    "            new_words.append(chat_words_dict[word.lower()])\n",
    "        else:\n",
    "            new_words.append(word)\n",
    "    return ' '.join(new_words)"
   ]
  },
  {
   "cell_type": "markdown",
   "id": "da70bba0",
   "metadata": {},
   "source": [
    "## Step 4: Cleaning and Preprocessing Text\n",
    "\n",
    "\n",
    "The project defines a function clean_text to perform the preprocessing steps:\n",
    "\n",
    "\n",
    "- Handles emojis\n",
    "- Handles chat words\n",
    "- Removes URLs, @mentions, and hashtags\n",
    "- Removes punctuation\n",
    "- Converts text to lowercase\n",
    "- Tokenizes text\n",
    "- Removes stopwords\n",
    "- Lemmatizes words\n"
   ]
  },
  {
   "cell_type": "code",
   "execution_count": 6,
   "id": "e7a3be25",
   "metadata": {},
   "outputs": [],
   "source": [
    "# Function to clean and preprocess text\n",
    "def clean_text(text):\n",
    "    text = handle_emojis(text)  # Handle emojis\n",
    "    text = handle_chat_words(text, chat_words_dict)  # Handle chat words\n",
    "    text = re.sub(r\"http\\S+|www\\S+|https\\S+\", '', text, flags=re.MULTILINE)  # Remove URLs\n",
    "    text = re.sub(r'\\@\\w+|\\#', '', text)  # Remove @mentions and hashtags\n",
    "    text = re.sub(r'[^\\w\\s]', '', text)  # Remove punctuation\n",
    "    text = text.lower()  # Convert to lowercase\n",
    "    text = nltk.word_tokenize(text)  # Tokenize the text\n",
    "    text = [lemmatizer.lemmatize(word) for word in text if word not in stop_words]  # Remove stopwords and lemmatize\n",
    "    return ' '.join(text)\n"
   ]
  },
  {
   "cell_type": "code",
   "execution_count": 7,
   "id": "8721f49f",
   "metadata": {},
   "outputs": [],
   "source": [
    "# Apply the cleaning function to the 'message' column\n",
    "data['cleaned_message'] = data['message'].apply(clean_text)\n"
   ]
  },
  {
   "cell_type": "code",
   "execution_count": 8,
   "id": "8af39179",
   "metadata": {},
   "outputs": [
    {
     "data": {
      "text/html": [
       "<div>\n",
       "<style scoped>\n",
       "    .dataframe tbody tr th:only-of-type {\n",
       "        vertical-align: middle;\n",
       "    }\n",
       "\n",
       "    .dataframe tbody tr th {\n",
       "        vertical-align: top;\n",
       "    }\n",
       "\n",
       "    .dataframe thead th {\n",
       "        text-align: right;\n",
       "    }\n",
       "</style>\n",
       "<table border=\"1\" class=\"dataframe\">\n",
       "  <thead>\n",
       "    <tr style=\"text-align: right;\">\n",
       "      <th></th>\n",
       "      <th>Original Text</th>\n",
       "      <th>Lemmatized Text</th>\n",
       "    </tr>\n",
       "  </thead>\n",
       "  <tbody>\n",
       "    <tr>\n",
       "      <th>0</th>\n",
       "      <td>just had a real good moment. i missssssssss hi...</td>\n",
       "      <td>real good moment miss much</td>\n",
       "    </tr>\n",
       "    <tr>\n",
       "      <th>1</th>\n",
       "      <td>is reading manga  http://plurk.com/p/mzp1e</td>\n",
       "      <td>reading manga</td>\n",
       "    </tr>\n",
       "    <tr>\n",
       "      <th>2</th>\n",
       "      <td>@comeagainjen http://twitpic.com/2y2lx - http:...</td>\n",
       "      <td></td>\n",
       "    </tr>\n",
       "    <tr>\n",
       "      <th>3</th>\n",
       "      <td>@lapcat Need to send 'em to my accountant tomo...</td>\n",
       "      <td>need send em accountant tomorrow oddly wasnt e...</td>\n",
       "    </tr>\n",
       "    <tr>\n",
       "      <th>4</th>\n",
       "      <td>ADD ME ON MYSPACE!!!  myspace.com/LookThunder</td>\n",
       "      <td>add myspace myspacecomlookthunder</td>\n",
       "    </tr>\n",
       "  </tbody>\n",
       "</table>\n",
       "</div>"
      ],
      "text/plain": [
       "                                       Original Text  \\\n",
       "0  just had a real good moment. i missssssssss hi...   \n",
       "1         is reading manga  http://plurk.com/p/mzp1e   \n",
       "2  @comeagainjen http://twitpic.com/2y2lx - http:...   \n",
       "3  @lapcat Need to send 'em to my accountant tomo...   \n",
       "4      ADD ME ON MYSPACE!!!  myspace.com/LookThunder   \n",
       "\n",
       "                                     Lemmatized Text  \n",
       "0                         real good moment miss much  \n",
       "1                                      reading manga  \n",
       "2                                                     \n",
       "3  need send em accountant tomorrow oddly wasnt e...  \n",
       "4                  add myspace myspacecomlookthunder  "
      ]
     },
     "execution_count": 8,
     "metadata": {},
     "output_type": "execute_result"
    }
   ],
   "source": [
    "# Step 4: Display original and cleaned text\n",
    "df_result = pd.DataFrame({\n",
    "    'Original Text': data['message'],\n",
    "    'Lemmatized Text': data['cleaned_message']\n",
    "})\n",
    "df_result.head()  # Display the first few rows of original and lemmatized text\n"
   ]
  },
  {
   "cell_type": "markdown",
   "id": "0aad76ac",
   "metadata": {},
   "source": [
    "## Step 5: Tokenization and Padding\n",
    "\n",
    "\n",
    "The project tokenizes and pads the text data:\n",
    "\n",
    "\n",
    "- Uses the Tokenizer class from Keras to tokenize text\n",
    "- Sets the maximum number of words to 5000\n",
    "- Sets the maximum sequence length to 100\n",
    "- Pads sequences to the same length using pad_sequences\n"
   ]
  },
  {
   "cell_type": "code",
   "execution_count": 9,
   "id": "c676b059",
   "metadata": {},
   "outputs": [],
   "source": [
    "#  Tokenization and Padding\n",
    "max_words = 5000  # Maximum number of words to use in tokenizer\n",
    "max_len = 100  # Maximum length of input sequences\n",
    "\n",
    "tokenizer = Tokenizer(num_words=max_words, lower=True)\n",
    "tokenizer.fit_on_texts(data['cleaned_message'])\n",
    "\n",
    "X = tokenizer.texts_to_sequences(data['cleaned_message'])\n",
    "X = pad_sequences(X, maxlen=max_len)  # Padding sequences to the same length\n"
   ]
  },
  {
   "cell_type": "markdown",
   "id": "803e4825",
   "metadata": {},
   "source": [
    "## Step 6: Preparing Labels\n",
    "\n",
    "\n",
    "The project extracts the sentiment labels:\n",
    "\n",
    "\n",
    "- Uses the label column from the dataset\n"
   ]
  },
  {
   "cell_type": "code",
   "execution_count": 10,
   "id": "5a79f8e1",
   "metadata": {},
   "outputs": [],
   "source": [
    "#  Prepare the Labels\n",
    "y = data['label']"
   ]
  },
  {
   "cell_type": "markdown",
   "id": "b987a85b",
   "metadata": {},
   "source": [
    "## Step 7: Splitting Data\n",
    "\n",
    "\n",
    "The project splits the data into training and testing sets:\n",
    "\n",
    "\n",
    "- Uses train_test_split from Scikit-learn\n",
    "- Sets the test size to 20% of the data\n",
    "- Randomizes the split using random_state=42\n"
   ]
  },
  {
   "cell_type": "code",
   "execution_count": 11,
   "id": "fc4f5a99",
   "metadata": {},
   "outputs": [],
   "source": [
    "#  Split the data into training and testing sets\n",
    "X_train, X_test, y_train, y_test = train_test_split(X, y, test_size=0.2, random_state=42)\n"
   ]
  },
  {
   "cell_type": "markdown",
   "id": "17001e92",
   "metadata": {},
   "source": [
    "## Step 8: Building LSTM Model\n",
    "\n",
    "\n",
    "The project defines an LSTM model:\n",
    "\n",
    "\n",
    "- Uses the Sequential API from Keras\n",
    "- Adds an embedding layer with 128 dimensions\n",
    "- Adds an LSTM layer with 100 units, dropout (0.2), and recurrent dropout (0.2)\n",
    "- Adds a dense output layer with sigmoid activation for binary classification\n"
   ]
  },
  {
   "cell_type": "code",
   "execution_count": 12,
   "id": "6551921b",
   "metadata": {},
   "outputs": [],
   "source": [
    "#  Build the LSTM Model\n",
    "model = Sequential()\n",
    "model.add(Embedding(max_words, 128, input_length=max_len))  # Embedding layer\n",
    "model.add(SpatialDropout1D(0.2))  # Dropout for regularization\n",
    "model.add(LSTM(100, dropout=0.2, recurrent_dropout=0.2))  # LSTM layer with dropout\n",
    "model.add(Dense(1, activation='sigmoid'))  # Output layer for binary classification\n"
   ]
  },
  {
   "cell_type": "markdown",
   "id": "4051d3bb",
   "metadata": {},
   "source": [
    "## Step 9: Compiling and Training Model\n",
    "\n",
    "\n",
    "The project compiles and trains the model:\n",
    "\n",
    "\n",
    "- Uses binary cross-entropy loss\n",
    "- Uses the Adam optimizer\n",
    "- Trains for 5 epochs with batch size 64\n",
    "- Validates on the test set\n",
    "\n"
   ]
  },
  {
   "cell_type": "code",
   "execution_count": 13,
   "id": "d5ca977d",
   "metadata": {},
   "outputs": [],
   "source": [
    "# Compile the model\n",
    "model.compile(loss='binary_crossentropy', optimizer=Adam(), metrics=['accuracy'])\n"
   ]
  },
  {
   "cell_type": "code",
   "execution_count": 14,
   "id": "13659c26",
   "metadata": {},
   "outputs": [
    {
     "name": "stdout",
     "output_type": "stream",
     "text": [
      "Epoch 1/5\n",
      "129/129 [==============================] - 40s 295ms/step - loss: 0.2656 - accuracy: 0.8902 - val_loss: 0.0419 - val_accuracy: 0.9908\n",
      "Epoch 2/5\n",
      "129/129 [==============================] - 38s 298ms/step - loss: 0.0246 - accuracy: 0.9937 - val_loss: 0.0341 - val_accuracy: 0.9922\n",
      "Epoch 3/5\n",
      "129/129 [==============================] - 39s 299ms/step - loss: 0.0113 - accuracy: 0.9972 - val_loss: 0.0433 - val_accuracy: 0.9889\n",
      "Epoch 4/5\n",
      "129/129 [==============================] - 38s 296ms/step - loss: 0.0060 - accuracy: 0.9985 - val_loss: 0.0363 - val_accuracy: 0.9913\n",
      "Epoch 5/5\n",
      "129/129 [==============================] - 40s 307ms/step - loss: 0.0039 - accuracy: 0.9994 - val_loss: 0.0383 - val_accuracy: 0.9898\n"
     ]
    }
   ],
   "source": [
    "#  Train the Model and Plot Loss & Accuracy\n",
    "history = model.fit(X_train, y_train, epochs=5, batch_size=64, validation_data=(X_test, y_test), verbose=1)\n"
   ]
  },
  {
   "cell_type": "markdown",
   "id": "4c60cf56",
   "metadata": {},
   "source": [
    "## Step 10: Plotting Accuracy and Loss\n",
    "\n",
    "\n",
    "The project plots the accuracy and loss during training:\n",
    "\n",
    "\n",
    "- Uses matplotlib to plot the training and validation accuracy and loss\n",
    "\n"
   ]
  },
  {
   "cell_type": "code",
   "execution_count": 15,
   "id": "730135c9",
   "metadata": {},
   "outputs": [
    {
     "data": {
      "image/png": "[encoded data removed]",
      "text/plain": [
       "<Figure size 1200x400 with 2 Axes>"
      ]
     },
     "metadata": {},
     "output_type": "display_data"
    }
   ],
   "source": [
    "# Plotting Accuracy and Loss\n",
    "plt.figure(figsize=(12, 4))\n",
    "\n",
    "# Accuracy plot\n",
    "plt.subplot(1, 2, 1)\n",
    "plt.plot(history.history['accuracy'], label='train accuracy')\n",
    "plt.plot(history.history['val_accuracy'], label='validation accuracy')\n",
    "plt.title('Model Accuracy')\n",
    "plt.ylabel('Accuracy')\n",
    "plt.xlabel('Epoch')\n",
    "plt.legend(loc='lower right')\n",
    "\n",
    "# Loss plot\n",
    "plt.subplot(1, 2, 2)\n",
    "plt.plot(history.history['loss'], label='train loss')\n",
    "plt.plot(history.history['val_loss'], label='validation loss')\n",
    "plt.title('Model Loss')\n",
    "plt.ylabel('Loss')\n",
    "plt.xlabel('Epoch')\n",
    "plt.legend(loc='upper right')\n",
    "\n",
    "plt.show()"
   ]
  },
  {
   "cell_type": "markdown",
   "id": "43da7f28",
   "metadata": {},
   "source": [
    "## Step 11: Evaluating Model\n",
    "\n",
    "\n",
    "The project evaluates the model on the test set:\n",
    "\n",
    "\n",
    "- Uses accuracy_score from Scikit-learn to calculate accuracy\n",
    "- Uses classification_report from Scikit-learn to generate a classification report\n",
    "\n"
   ]
  },
  {
   "cell_type": "code",
   "execution_count": 16,
   "id": "2a4ef056",
   "metadata": {},
   "outputs": [
    {
     "name": "stdout",
     "output_type": "stream",
     "text": [
      "65/65 [==============================] - 2s 22ms/step\n",
      "Accuracy: 0.9898206495395055\n",
      "Classification Report:\n",
      "              precision    recall  f1-score   support\n",
      "\n",
      "           0       0.99      1.00      0.99      1614\n",
      "           1       0.98      0.97      0.98       449\n",
      "\n",
      "    accuracy                           0.99      2063\n",
      "   macro avg       0.99      0.98      0.98      2063\n",
      "weighted avg       0.99      0.99      0.99      2063\n",
      "\n"
     ]
    }
   ],
   "source": [
    "#  Model Evaluation\n",
    "y_pred = (model.predict(X_test) > 0.5).astype(\"int32\")\n",
    "\n",
    "# Print Accuracy\n",
    "accuracy = accuracy_score(y_test, y_pred)\n",
    "print(f\"Accuracy: {accuracy}\")\n",
    "\n",
    "# Print Classification Report\n",
    "report = classification_report(y_test, y_pred)\n",
    "print(\"Classification Report:\")\n",
    "print(report)"
   ]
  },
  {
   "cell_type": "markdown",
   "id": "feb6436c",
   "metadata": {},
   "source": [
    "## Step 12: Visualizing Results\n",
    "\n",
    "\n",
    "The project visualizes the results:\n",
    "\n",
    "\n",
    "- Uses matplotlib to plot a pie chart showing correct and incorrect predictions."
   ]
  },
  {
   "cell_type": "code",
   "execution_count": 17,
   "id": "4a27944e",
   "metadata": {},
   "outputs": [
    {
     "data": {
      "image/png": "[encoded data removed]",
      "text/plain": [
       "<Figure size 600x600 with 1 Axes>"
      ]
     },
     "metadata": {},
     "output_type": "display_data"
    }
   ],
   "source": [
    "labels = ['Correct Predictions', 'Incorrect Predictions']\n",
    "values = [accuracy * len(y_test), (1 - accuracy) * len(y_test)]\n",
    "\n",
    "plt.figure(figsize=(6, 6))\n",
    "plt.pie(values, labels=labels, autopct='%1.1f%%', colors=['green', 'red'], startangle=90)\n",
    "plt.title('Prediction Accuracy')\n",
    "plt.axis('equal')  # Equal aspect ratio ensures that pie chart is drawn as a circle.\n",
    "plt.show()"
   ]
  }
 ],
 "metadata": {
  "kernelspec": {
   "display_name": "Python 3 (ipykernel)",
   "language": "python",
   "name": "python3"
  },
  "language_info": {
   "codemirror_mode": {
    "name": "ipython",
    "version": 3
   },
   "file_extension": ".py",
   "mimetype": "text/x-python",
   "name": "python",
   "nbconvert_exporter": "python",
   "pygments_lexer": "ipython3",
   "version": "3.11.5"
  }
 },
 "nbformat": 4,
 "nbformat_minor": 5
}
